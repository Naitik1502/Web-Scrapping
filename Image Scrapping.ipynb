{
 "cells": [
  {
   "cell_type": "code",
   "execution_count": 7,
   "metadata": {},
   "outputs": [
    {
     "ename": "SyntaxError",
     "evalue": "invalid syntax (<ipython-input-7-df8fc83cadcc>, line 2)",
     "output_type": "error",
     "traceback": [
      "\u001b[0;36m  File \u001b[0;32m\"<ipython-input-7-df8fc83cadcc>\"\u001b[0;36m, line \u001b[0;32m2\u001b[0m\n\u001b[0;31m    pip install selenium\u001b[0m\n\u001b[0m              ^\u001b[0m\n\u001b[0;31mSyntaxError\u001b[0m\u001b[0;31m:\u001b[0m invalid syntax\n"
     ]
    }
   ],
   "source": [
    "#installations\n",
    "pip install selenium "
   ]
  },
  {
   "cell_type": "code",
   "execution_count": 2,
   "metadata": {},
   "outputs": [
    {
     "name": "stdout",
     "output_type": "stream",
     "text": [
      "Requirement already satisfied: Pillow in /home/naitik_1502/anaconda3/lib/python3.7/site-packages (7.0.0)\n",
      "Note: you may need to restart the kernel to use updated packages.\n"
     ]
    }
   ],
   "source": [
    "pip install Pillow"
   ]
  },
  {
   "cell_type": "code",
   "execution_count": 1,
   "metadata": {},
   "outputs": [],
   "source": [
    "import os\n",
    "import time\n",
    "import io\n",
    "import requests\n",
    "import PIL.Image as Image\n",
    "import hashlib"
   ]
  },
  {
   "cell_type": "code",
   "execution_count": 2,
   "metadata": {},
   "outputs": [],
   "source": [
    "import selenium\n",
    "from selenium import webdriver\n",
    "\n",
    "DRIVER_PATH = '/home/naitik_1502/Scrapping/chromedriver'\n",
    "wd = webdriver.Chrome(executable_path=DRIVER_PATH)"
   ]
  },
  {
   "cell_type": "code",
   "execution_count": 3,
   "metadata": {},
   "outputs": [],
   "source": [
    "def fetch_image_urls(query:str, max_links_to_fetch:int, wd:webdriver, sleep_between_interactions:int=1):\n",
    "    def scroll_to_end(wd):\n",
    "        wd.execute_script(\"window.scrollTo(0, document.body.scrollHeight);\")\n",
    "        time.sleep(sleep_between_interactions)    \n",
    "    \n",
    "    # build the google query\n",
    "    search_url = \"https://www.google.com/search?safe=off&site=&tbm=isch&source=hp&q={q}&oq={q}&gs_l=img\"\n",
    "\n",
    "    # load the page\n",
    "    wd.get(search_url.format(q=query))\n",
    "\n",
    "    image_urls = set()\n",
    "    image_count = 0\n",
    "    results_start = 0\n",
    "    while image_count < max_links_to_fetch:\n",
    "        scroll_to_end(wd)\n",
    "\n",
    "        # get all image thumbnail results\n",
    "        thumbnail_results = wd.find_elements_by_css_selector(\"img.Q4LuWd\")\n",
    "        number_results = len(thumbnail_results)\n",
    "        \n",
    "        print(f\"Found: {number_results} search results. Extracting links from {results_start}:{number_results}\")\n",
    "        \n",
    "        for img in thumbnail_results[results_start:number_results]:\n",
    "            # try to click every thumbnail such that we can get the real image behind it\n",
    "            try:\n",
    "                img.click()\n",
    "                time.sleep(sleep_between_interactions)\n",
    "            except Exception:\n",
    "                continue\n",
    "\n",
    "            # extract image urls    \n",
    "            actual_images = wd.find_elements_by_css_selector('img.n3VNCb')\n",
    "            for actual_image in actual_images:\n",
    "                if actual_image.get_attribute('src') and 'http' in actual_image.get_attribute('src'):\n",
    "                    image_urls.add(actual_image.get_attribute('src'))\n",
    "\n",
    "            image_count = len(image_urls)\n",
    "\n",
    "            if len(image_urls) >= max_links_to_fetch:\n",
    "                print(f\"Found: {len(image_urls)} image links, done!\")\n",
    "                break\n",
    "        else:\n",
    "            print(\"Found:\", len(image_urls), \"image links, looking for more ...\")\n",
    "            time.sleep(30)\n",
    "            return\n",
    "            load_more_button = wd.find_element_by_css_selector(\".mye4qd\")\n",
    "            if load_more_button:\n",
    "                wd.execute_script(\"document.querySelector('.mye4qd').click();\")\n",
    "\n",
    "        # move the result startpoint further down\n",
    "        results_start = len(thumbnail_results)\n",
    "\n",
    "    return image_urls"
   ]
  },
  {
   "cell_type": "code",
   "execution_count": 4,
   "metadata": {},
   "outputs": [],
   "source": [
    "def persist_image(folder_path:str,url:str):\n",
    "    try:\n",
    "        image_content = requests.get(url).content\n",
    "\n",
    "    except Exception as e:\n",
    "        print(f\"ERROR - Could not download {url} - {e}\")\n",
    "\n",
    "    try:\n",
    "        image_file = io.BytesIO(image_content)\n",
    "        image = Image.open(image_file).convert('RGB')\n",
    "        file_path = os.path.join(folder_path,hashlib.sha1(image_content).hexdigest()[:10] + '.jpg')\n",
    "        with open(file_path, 'wb') as f:\n",
    "            image.save(f, \"JPEG\", quality=85)\n",
    "        print(f\"SUCCESS - saved {url} - as {file_path}\")\n",
    "    except Exception as e:\n",
    "        print(f\"ERROR - Could not save {url} - {e}\")"
   ]
  },
  {
   "cell_type": "code",
   "execution_count": 22,
   "metadata": {},
   "outputs": [],
   "source": [
    "def search_and_download(search_term:str,driver_path:str,target_path='./images',number_images=50):\n",
    "    target_folder = os.path.join(target_path,'_'.join(search_term.lower().split(' ')))\n",
    "\n",
    "    if not os.path.exists(target_folder):\n",
    "        os.makedirs(target_folder)\n",
    "\n",
    "    with webdriver.Chrome(executable_path=driver_path) as wd:\n",
    "        res = fetch_image_urls(search_term, number_images, wd=wd, sleep_between_interactions=0.5)\n",
    "        \n",
    "    for elem in res:\n",
    "        persist_image(target_folder,elem)"
   ]
  },
  {
   "cell_type": "code",
   "execution_count": 29,
   "metadata": {},
   "outputs": [
    {
     "name": "stdout",
     "output_type": "stream",
     "text": [
      "Found: 100 search results. Extracting links from 0:100\n",
      "Found: 51 image links, done!\n",
      "SUCCESS - saved https://encrypted-tbn0.gstatic.com/images?q=tbn%3AANd9GcR-1wIEwSDEVg2HzBRMkA3z7dZ3m69acme2cei2GaIhrDgO_F_s&usqp=CAU - as ./images/island_high_resolution/936e114950.jpg\n",
      "SUCCESS - saved https://encrypted-tbn0.gstatic.com/images?q=tbn%3AANd9GcQvEew0bd6bJPerCdYEJGPqJaGiVUKckvr0YJl1gAMzhDqcipgn&usqp=CAU - as ./images/island_high_resolution/53eac19104.jpg\n",
      "SUCCESS - saved https://encrypted-tbn0.gstatic.com/images?q=tbn%3AANd9GcTRG7rjET24rXemHfakD0GLBdLsd_LXWWUhaJydxRnKs-HgPxCo&usqp=CAU - as ./images/island_high_resolution/d7be796741.jpg\n",
      "SUCCESS - saved https://i.pinimg.com/originals/0f/f6/12/0ff612687838dec224bc1e2c9108d6f2.jpg - as ./images/island_high_resolution/1d299a9b13.jpg\n",
      "SUCCESS - saved https://encrypted-tbn0.gstatic.com/images?q=tbn%3AANd9GcS9D2_fgiFcrCdfwk3YPqxnp5urcVuFv6kIrF9vGFP9JWcJef_2&usqp=CAU - as ./images/island_high_resolution/d0a1fa9f80.jpg\n",
      "SUCCESS - saved https://encrypted-tbn0.gstatic.com/images?q=tbn%3AANd9GcSb1SS-ZZgJ0PfmTo6H9HRVhvNHixpufZSAn2PTLNOvJIgrIr1i&usqp=CAU - as ./images/island_high_resolution/02bcc754d7.jpg\n",
      "SUCCESS - saved https://encrypted-tbn0.gstatic.com/images?q=tbn%3AANd9GcQL1RH44va2JdKVOBIbJgJNQpUU5J2n91o6MheIvOEySuONEM3e&usqp=CAU - as ./images/island_high_resolution/fbf072d401.jpg\n",
      "SUCCESS - saved https://previews.123rf.com/images/beawolf/beawolf1403/beawolf140300390/26754693-very-high-resolution-rendering-of-a-tropical-island.jpg - as ./images/island_high_resolution/b6de3ed093.jpg\n",
      "SUCCESS - saved https://encrypted-tbn0.gstatic.com/images?q=tbn%3AANd9GcR4m4RjxR-AE3cRG3M-jmC0Qcnnl4a7CKFsVVXDiLl0CE4Ez_26&usqp=CAU - as ./images/island_high_resolution/30911a3a75.jpg\n",
      "SUCCESS - saved https://encrypted-tbn0.gstatic.com/images?q=tbn%3AANd9GcQSTpgYVNAxfvfsyPJmVMHy81M_sCPK_DidPkGitnGJvmusxeO0&usqp=CAU - as ./images/island_high_resolution/6b447eeef4.jpg\n",
      "SUCCESS - saved https://thumbs.dreamstime.com/z/stunning-high-resolution-beach-panorama-taken-paradise-islands-seychelles-stunning-high-resolution-beach-panorama-taken-141960399.jpg - as ./images/island_high_resolution/8321bd33a2.jpg\n",
      "SUCCESS - saved https://encrypted-tbn0.gstatic.com/images?q=tbn%3AANd9GcSS_eLdh9ASbPgmNtNBD4UCCbaXcnLpUaKxHOy9x-Id97pwCyHR&usqp=CAU - as ./images/island_high_resolution/08ace0bd00.jpg\n",
      "SUCCESS - saved https://encrypted-tbn0.gstatic.com/images?q=tbn%3AANd9GcSwVKYtSuNJk9QkKUWYKhr4qciSzcTUxGT8KsiZ2jNKFc4yt_Hx&usqp=CAU - as ./images/island_high_resolution/82f4692e57.jpg\n",
      "SUCCESS - saved https://lh3.googleusercontent.com/proxy/xLPXlFbMSUox6-2ZHQ9c9fzYOLOT3G4a49K9v2k0U0DDHSvXM1GtsuJSRqM-r_N4UGbJ3tfILggSzfeSJMJF-PzM0HDH-CrbwAxruln9YjyZXHZn_ikg-L9o166E8HPIJy7Uv9nE - as ./images/island_high_resolution/714f50d80f.jpg\n",
      "SUCCESS - saved https://encrypted-tbn0.gstatic.com/images?q=tbn%3AANd9GcSrHyBJveaf0Iuun7TplfnEz8Dhp2xYHsRka5vdrkU8ZncnrZWS&usqp=CAU - as ./images/island_high_resolution/7ab769fc0d.jpg\n",
      "SUCCESS - saved https://encrypted-tbn0.gstatic.com/images?q=tbn%3AANd9GcSFL2qf2QkA-2FGBjicgE4O8Bn05ObEcRZ3lsxlPRi2x9K0u7bm&usqp=CAU - as ./images/island_high_resolution/4348e12f43.jpg\n",
      "SUCCESS - saved https://encrypted-tbn0.gstatic.com/images?q=tbn%3AANd9GcRliIonMVbd0UJl5mb2hwMKAOu2QFwefHYDxH1XBV8g0ihNi6oU&usqp=CAU - as ./images/island_high_resolution/a994d065ec.jpg\n",
      "SUCCESS - saved https://encrypted-tbn0.gstatic.com/images?q=tbn%3AANd9GcT6m5gCBIK2oQywm9wt0doJ5maJf_vnKSE6cAkVhf3DM2oQGB8-&usqp=CAU - as ./images/island_high_resolution/ccd22090de.jpg\n",
      "SUCCESS - saved https://encrypted-tbn0.gstatic.com/images?q=tbn%3AANd9GcRrZQOiiWqUpLkInVHWEYI2qUIs1AnJnvuKcqFmAsTKTl-e1UfD&usqp=CAU - as ./images/island_high_resolution/94b2aff6e1.jpg\n",
      "SUCCESS - saved https://encrypted-tbn0.gstatic.com/images?q=tbn%3AANd9GcQ-AfLdIoTEYovk2zqhINAGqdF_YTqAirZkb18mTKrmTyoId4xE&usqp=CAU - as ./images/island_high_resolution/8ffde76b67.jpg\n",
      "SUCCESS - saved https://encrypted-tbn0.gstatic.com/images?q=tbn%3AANd9GcRUWlJB_6TCfqAyGX1GO3TXU77U64Ieaa2MZPRYqRhEMks7dbEm&usqp=CAU - as ./images/island_high_resolution/dcaea593e3.jpg\n",
      "SUCCESS - saved https://encrypted-tbn0.gstatic.com/images?q=tbn%3AANd9GcQqSg7lfx9nKMl3e9XCMmebcdXZv2LP0wB-oULuGjRbm_jiC8wa&usqp=CAU - as ./images/island_high_resolution/1b102bd25f.jpg\n",
      "SUCCESS - saved https://encrypted-tbn0.gstatic.com/images?q=tbn%3AANd9GcQNVS-fLC7TcrNqMFceU_uv7uNRo00byJCmrfgDqwGtQol5u8rW&usqp=CAU - as ./images/island_high_resolution/e49eaee79d.jpg\n",
      "SUCCESS - saved https://encrypted-tbn0.gstatic.com/images?q=tbn%3AANd9GcQb9que2lkamXKBfoj07zXSkEJEibwvu5Ftj8k1P-ewp46jdzL-&usqp=CAU - as ./images/island_high_resolution/c57efc1b5a.jpg\n",
      "SUCCESS - saved https://encrypted-tbn0.gstatic.com/images?q=tbn%3AANd9GcSaT38tf0p-CNWd5yQ6YqESswRZDM3ADAF1rQWg-QHhd35XoSlJ&usqp=CAU - as ./images/island_high_resolution/4972908359.jpg\n",
      "SUCCESS - saved https://encrypted-tbn0.gstatic.com/images?q=tbn%3AANd9GcQVaCxEc7BozmntTBadaaxntdSAucRiUrGEkdbaAdwQ0anQj3Od&usqp=CAU - as ./images/island_high_resolution/4f78376714.jpg\n",
      "SUCCESS - saved https://encrypted-tbn0.gstatic.com/images?q=tbn%3AANd9GcTgFEekKN5zvZdxARAy5RtiDGYh6U4cDSXg0N5DywPwm1lxSRDj&usqp=CAU - as ./images/island_high_resolution/dcd8be91f4.jpg\n",
      "SUCCESS - saved https://encrypted-tbn0.gstatic.com/images?q=tbn%3AANd9GcQETMilSTIKCF56kCLeHjHEfN7l5hZ4HyuPpZQZRhdN7eS_3TN0&usqp=CAU - as ./images/island_high_resolution/704c41e7ff.jpg\n",
      "SUCCESS - saved https://encrypted-tbn0.gstatic.com/images?q=tbn%3AANd9GcSXLJLVwZ-J48w2_-Mfd-wCUjhab86pheQsWZeTH5bJjMpWu3dF&usqp=CAU - as ./images/island_high_resolution/6d7860a425.jpg\n",
      "SUCCESS - saved https://encrypted-tbn0.gstatic.com/images?q=tbn%3AANd9GcTT6MirxTGrVfu_DxKtWuZGfLf4JQdMKEGGvnCc5h3mTO9CyD1o&usqp=CAU - as ./images/island_high_resolution/2a75a88d6f.jpg\n",
      "SUCCESS - saved https://encrypted-tbn0.gstatic.com/images?q=tbn%3AANd9GcTcFyzBYrm3WDukLiaPQl4V36BEJMxwOPjHhKVfwnmk8DYvAVLw&usqp=CAU - as ./images/island_high_resolution/5c684dd695.jpg\n",
      "SUCCESS - saved https://besthqwallpapers.com/img/original/15367/fiji-paradise-island-palm-sea.jpg - as ./images/island_high_resolution/91be57cd48.jpg\n",
      "SUCCESS - saved https://encrypted-tbn0.gstatic.com/images?q=tbn%3AANd9GcSpYWCJHySHPf0YNupkaMkrPLeNrM3-xoPRZZoCgk6M2XEA-WTl&usqp=CAU - as ./images/island_high_resolution/908806b57e.jpg\n",
      "SUCCESS - saved https://encrypted-tbn0.gstatic.com/images?q=tbn%3AANd9GcRGinhbBazULuxb81Wc04WEezWKYPTCjnDm1-nnGfIgglK5OkpM&usqp=CAU - as ./images/island_high_resolution/d68a6bc703.jpg\n",
      "SUCCESS - saved https://images-na.ssl-images-amazon.com/images/I/51z1D%2B4IkYL._AC_SY400_.jpg - as ./images/island_high_resolution/2ae938a069.jpg\n",
      "SUCCESS - saved https://encrypted-tbn0.gstatic.com/images?q=tbn%3AANd9GcRvpRBLckqcIRhsGUvPh5QeIO7dekY64gMniSVErsdjkObAooNk&usqp=CAU - as ./images/island_high_resolution/18ca7e518e.jpg\n",
      "SUCCESS - saved https://encrypted-tbn0.gstatic.com/images?q=tbn%3AANd9GcSm66SBZd6xRf-jkK242He00mnI3QUZWJz5NXmvD8csVHzHG0d7&usqp=CAU - as ./images/island_high_resolution/c05dbf959e.jpg\n",
      "SUCCESS - saved https://encrypted-tbn0.gstatic.com/images?q=tbn%3AANd9GcSD8xi50lRkwzGD-Q2oJkMjjIfX_C1SRW2xAJPLdYRAg2CuI0pW&usqp=CAU - as ./images/island_high_resolution/8534649cae.jpg\n",
      "SUCCESS - saved https://encrypted-tbn0.gstatic.com/images?q=tbn%3AANd9GcR1q6IC1VdanHCo0gVtkW-otE-c0q-XjB_5Wb8GF8PlRMxTCbXk&usqp=CAU - as ./images/island_high_resolution/138771e83d.jpg\n",
      "SUCCESS - saved https://encrypted-tbn0.gstatic.com/images?q=tbn%3AANd9GcTAcR2KqmEGEoRXws4_DUAXndBoVPV-kIsivPT9gBS8ArhUjiN2&usqp=CAU - as ./images/island_high_resolution/f268c02ff3.jpg\n",
      "SUCCESS - saved https://encrypted-tbn0.gstatic.com/images?q=tbn%3AANd9GcS7wyD0POz7d7XdjpKBBFK7Dq-pKBdLSkWq_AyvyMP_p1BGgv4y&usqp=CAU - as ./images/island_high_resolution/15005729cc.jpg\n",
      "SUCCESS - saved https://encrypted-tbn0.gstatic.com/images?q=tbn%3AANd9GcRu7I3xAldRffiQqE0YXSAx4x2FmN2ChKe8Do3PqLmVFxixjmp2&usqp=CAU - as ./images/island_high_resolution/b03b1e4726.jpg\n",
      "SUCCESS - saved https://encrypted-tbn0.gstatic.com/images?q=tbn%3AANd9GcStNdl7TvsrqZppOpi2ktCNcRfgj34Z82Uo7h2-pUaINpWfSGle&usqp=CAU - as ./images/island_high_resolution/bc57aa64ea.jpg\n",
      "SUCCESS - saved https://encrypted-tbn0.gstatic.com/images?q=tbn%3AANd9GcRdv41jctLDsoeb-yYKQ-POmHHVj1rrhBGmgzuEyKxX_x-InyQ1&usqp=CAU - as ./images/island_high_resolution/ab120a0997.jpg\n"
     ]
    },
    {
     "name": "stdout",
     "output_type": "stream",
     "text": [
      "SUCCESS - saved https://encrypted-tbn0.gstatic.com/images?q=tbn%3AANd9GcTf7FMPLnwIN2DCo2Bknkm1B2Sg4Qb3LejT4Ferm-bEL7tVZnTG&usqp=CAU - as ./images/island_high_resolution/e97ed95dcf.jpg\n",
      "SUCCESS - saved https://encrypted-tbn0.gstatic.com/images?q=tbn%3AANd9GcSfOjXLBun2J_tHc3Zw2nlSCK7Dl6NhjXOCcgtDUDiZC5TD9cgE&usqp=CAU - as ./images/island_high_resolution/d4b05d7923.jpg\n",
      "SUCCESS - saved https://encrypted-tbn0.gstatic.com/images?q=tbn%3AANd9GcTxxOCETmD-ym1rb8y0ujZV0K1ep-CowgFpPR-uPQp7_lXLyXXL&usqp=CAU - as ./images/island_high_resolution/0a8402aca8.jpg\n",
      "SUCCESS - saved https://encrypted-tbn0.gstatic.com/images?q=tbn%3AANd9GcQ3R-0DbjH85WQUHQDmoc214JdC89FL611i8W72p4L6HRPe4y3X&usqp=CAU - as ./images/island_high_resolution/3c7ec021b8.jpg\n",
      "SUCCESS - saved https://c4.wallpaperflare.com/wallpaper/860/720/995/5bd34ca06ca9b-wallpaper-preview.jpg - as ./images/island_high_resolution/a486ef2d20.jpg\n",
      "SUCCESS - saved https://encrypted-tbn0.gstatic.com/images?q=tbn%3AANd9GcR85Q8PzH1mItuUbnuArWotNaPwUJ-rAbadNXTH1ebYNFORwFf7&usqp=CAU - as ./images/island_high_resolution/ca2dd62249.jpg\n",
      "SUCCESS - saved https://encrypted-tbn0.gstatic.com/images?q=tbn%3AANd9GcSgnG3Yk4Y9Qm0FRVx-VmvIj2uh8C6gJ9mRA7G8u9rtFY1cslji&usqp=CAU - as ./images/island_high_resolution/cf31f7cd91.jpg\n"
     ]
    }
   ],
   "source": [
    "search_term = 'island high resolution'\n",
    "\n",
    "search_and_download(search_term = search_term ,driver_path = DRIVER_PATH )"
   ]
  },
  {
   "cell_type": "code",
   "execution_count": null,
   "metadata": {},
   "outputs": [],
   "source": []
  }
 ],
 "metadata": {
  "kernelspec": {
   "display_name": "Python 3",
   "language": "python",
   "name": "python3"
  },
  "language_info": {
   "codemirror_mode": {
    "name": "ipython",
    "version": 3
   },
   "file_extension": ".py",
   "mimetype": "text/x-python",
   "name": "python",
   "nbconvert_exporter": "python",
   "pygments_lexer": "ipython3",
   "version": "3.7.6"
  }
 },
 "nbformat": 4,
 "nbformat_minor": 4
}
